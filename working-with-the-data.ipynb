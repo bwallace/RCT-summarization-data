{
 "cells": [
  {
   "cell_type": "markdown",
   "metadata": {},
   "source": [
    "### Reading in the data\n",
    "\n",
    "A quick example."
   ]
  },
  {
   "cell_type": "code",
   "execution_count": 1,
   "metadata": {},
   "outputs": [],
   "source": [
    "import pandas as pd"
   ]
  },
  {
   "cell_type": "code",
   "execution_count": 3,
   "metadata": {},
   "outputs": [],
   "source": [
    "train_inputs_df = pd.read_csv(\"train-inputs.csv\")\n",
    "train_targets_df = pd.read_csv(\"train-targets.csv\")  "
   ]
  },
  {
   "cell_type": "markdown",
   "metadata": {},
   "source": [
    "Let's read in the train inputs and targets and inspect them."
   ]
  },
  {
   "cell_type": "code",
   "execution_count": 4,
   "metadata": {},
   "outputs": [
    {
     "data": {
      "text/html": [
       "<div>\n",
       "<style scoped>\n",
       "    .dataframe tbody tr th:only-of-type {\n",
       "        vertical-align: middle;\n",
       "    }\n",
       "\n",
       "    .dataframe tbody tr th {\n",
       "        vertical-align: top;\n",
       "    }\n",
       "\n",
       "    .dataframe thead th {\n",
       "        text-align: right;\n",
       "    }\n",
       "</style>\n",
       "<table border=\"1\" class=\"dataframe\">\n",
       "  <thead>\n",
       "    <tr style=\"text-align: right;\">\n",
       "      <th></th>\n",
       "      <th>Unnamed: 0</th>\n",
       "      <th>ReviewID</th>\n",
       "      <th>PMID</th>\n",
       "      <th>Title</th>\n",
       "      <th>Abstract</th>\n",
       "    </tr>\n",
       "  </thead>\n",
       "  <tbody>\n",
       "    <tr>\n",
       "      <th>0</th>\n",
       "      <td>0</td>\n",
       "      <td>CD007016</td>\n",
       "      <td>11849419</td>\n",
       "      <td>Is peritoneal dialysis adequate for hypercatab...</td>\n",
       "      <td>Peritoneal dialysis (PD) is a therapeutic opti...</td>\n",
       "    </tr>\n",
       "    <tr>\n",
       "      <th>1</th>\n",
       "      <td>1</td>\n",
       "      <td>CD007119</td>\n",
       "      <td>16809729</td>\n",
       "      <td>Phase II trial of alfimeprase, a novel-acting ...</td>\n",
       "      <td>Alfimeprase is a recombinantly produced, genet...</td>\n",
       "    </tr>\n",
       "    <tr>\n",
       "      <th>2</th>\n",
       "      <td>2</td>\n",
       "      <td>CD007119</td>\n",
       "      <td>15178717</td>\n",
       "      <td>Dose-ranging trial with a recombinant urokinas...</td>\n",
       "      <td>Recombinant urokinase (r-UK) is a high-molecul...</td>\n",
       "    </tr>\n",
       "    <tr>\n",
       "      <th>3</th>\n",
       "      <td>3</td>\n",
       "      <td>CD007119</td>\n",
       "      <td>11487675</td>\n",
       "      <td>Recombinant tissue plasminogen activator (alte...</td>\n",
       "      <td>Central venous access devices (CVADs) are a ma...</td>\n",
       "    </tr>\n",
       "    <tr>\n",
       "      <th>4</th>\n",
       "      <td>4</td>\n",
       "      <td>CD007119</td>\n",
       "      <td>14742778</td>\n",
       "      <td>Alteplase for central catheter clearance: 1 mg...</td>\n",
       "      <td>NaN</td>\n",
       "    </tr>\n",
       "  </tbody>\n",
       "</table>\n",
       "</div>"
      ],
      "text/plain": [
       "   Unnamed: 0  ReviewID      PMID  \\\n",
       "0           0  CD007016  11849419   \n",
       "1           1  CD007119  16809729   \n",
       "2           2  CD007119  15178717   \n",
       "3           3  CD007119  11487675   \n",
       "4           4  CD007119  14742778   \n",
       "\n",
       "                                               Title  \\\n",
       "0  Is peritoneal dialysis adequate for hypercatab...   \n",
       "1  Phase II trial of alfimeprase, a novel-acting ...   \n",
       "2  Dose-ranging trial with a recombinant urokinas...   \n",
       "3  Recombinant tissue plasminogen activator (alte...   \n",
       "4  Alteplase for central catheter clearance: 1 mg...   \n",
       "\n",
       "                                            Abstract  \n",
       "0  Peritoneal dialysis (PD) is a therapeutic opti...  \n",
       "1  Alfimeprase is a recombinantly produced, genet...  \n",
       "2  Recombinant urokinase (r-UK) is a high-molecul...  \n",
       "3  Central venous access devices (CVADs) are a ma...  \n",
       "4                                                NaN  "
      ]
     },
     "execution_count": 4,
     "metadata": {},
     "output_type": "execute_result"
    }
   ],
   "source": [
    "train_inputs_df.head()"
   ]
  },
  {
   "cell_type": "code",
   "execution_count": 5,
   "metadata": {},
   "outputs": [
    {
     "data": {
      "text/html": [
       "<div>\n",
       "<style scoped>\n",
       "    .dataframe tbody tr th:only-of-type {\n",
       "        vertical-align: middle;\n",
       "    }\n",
       "\n",
       "    .dataframe tbody tr th {\n",
       "        vertical-align: top;\n",
       "    }\n",
       "\n",
       "    .dataframe thead th {\n",
       "        text-align: right;\n",
       "    }\n",
       "</style>\n",
       "<table border=\"1\" class=\"dataframe\">\n",
       "  <thead>\n",
       "    <tr style=\"text-align: right;\">\n",
       "      <th></th>\n",
       "      <th>Unnamed: 0</th>\n",
       "      <th>ReviewID</th>\n",
       "      <th>Target</th>\n",
       "    </tr>\n",
       "  </thead>\n",
       "  <tbody>\n",
       "    <tr>\n",
       "      <th>0</th>\n",
       "      <td>0</td>\n",
       "      <td>CD007016</td>\n",
       "      <td>At present, there is insufficient RCT evidence...</td>\n",
       "    </tr>\n",
       "    <tr>\n",
       "      <th>1</th>\n",
       "      <td>1</td>\n",
       "      <td>CD007119</td>\n",
       "      <td>There is inadequate evidence to draw strong co...</td>\n",
       "    </tr>\n",
       "    <tr>\n",
       "      <th>2</th>\n",
       "      <td>2</td>\n",
       "      <td>CD006525</td>\n",
       "      <td>Collaborative care is associated with signific...</td>\n",
       "    </tr>\n",
       "    <tr>\n",
       "      <th>3</th>\n",
       "      <td>3</td>\n",
       "      <td>CD005571</td>\n",
       "      <td>Administration of systemic prophylactic antibi...</td>\n",
       "    </tr>\n",
       "    <tr>\n",
       "      <th>4</th>\n",
       "      <td>4</td>\n",
       "      <td>CD003390</td>\n",
       "      <td>The limited available evidence suggests folate...</td>\n",
       "    </tr>\n",
       "  </tbody>\n",
       "</table>\n",
       "</div>"
      ],
      "text/plain": [
       "   Unnamed: 0  ReviewID                                             Target\n",
       "0           0  CD007016  At present, there is insufficient RCT evidence...\n",
       "1           1  CD007119  There is inadequate evidence to draw strong co...\n",
       "2           2  CD006525  Collaborative care is associated with signific...\n",
       "3           3  CD005571  Administration of systemic prophylactic antibi...\n",
       "4           4  CD003390  The limited available evidence suggests folate..."
      ]
     },
     "execution_count": 5,
     "metadata": {},
     "output_type": "execute_result"
    }
   ],
   "source": [
    "train_targets_df.head()"
   ]
  },
  {
   "cell_type": "markdown",
   "metadata": {},
   "source": [
    "The key field here is the `ReviewID` which indicates the Cochrane systematic review. So let's look at a particular review, `CD007119` [here it is on PubMed](https://pubmed.ncbi.nlm.nih.gov/22513946/); and here on the [Cochrane Library](https://www.cochranelibrary.com/cdsr/doi/10.1002/14651858.CD007119.pub2/full)."
   ]
  },
  {
   "cell_type": "code",
   "execution_count": 14,
   "metadata": {},
   "outputs": [
    {
     "name": "stdout",
     "output_type": "stream",
     "text": [
      "There is inadequate evidence to draw strong conclusions on the efficacy or safety of the drug interventions included in this review. There is some low quality evidence from a meta-analysis of two studies investigating urokinase (various strengths) and some very low evidence from two single studies investigating alteplase 2 mg/2 mL that suggest that these two drug interventions may be effective in treating withdrawal or total occlusion of CVC lumens caused by thrombosis. Further high quality, sufficiently powered research is still required to look at the efficacy and safety of urokinase, alteplase and other chemical, surgical and drug interventions for treating CVC lumen occlusion. Research studies which exclusively include child participants are especially warranted.\n"
     ]
    }
   ],
   "source": [
    "print(train_targets_df[train_targets_df['ReviewID'] == \"CD007119\"][\"Target\"].values[0])"
   ]
  },
  {
   "cell_type": "markdown",
   "metadata": {},
   "source": [
    "This is the summary of the evidence that the review authors came to on the basis of the following *inputs*:"
   ]
  },
  {
   "cell_type": "code",
   "execution_count": 16,
   "metadata": {},
   "outputs": [
    {
     "data": {
      "text/plain": [
       "(7, 5)"
      ]
     },
     "execution_count": 16,
     "metadata": {},
     "output_type": "execute_result"
    }
   ],
   "source": [
    "inputs7119 = train_inputs_df[train_inputs_df['ReviewID'] == \"CD007119\"]\n",
    "inputs7119.shape"
   ]
  },
  {
   "cell_type": "markdown",
   "metadata": {},
   "source": [
    "So we have 7 studies here as inputs, and here are there PMIDs, Titles, Abstracts:"
   ]
  },
  {
   "cell_type": "code",
   "execution_count": 18,
   "metadata": {},
   "outputs": [
    {
     "data": {
      "text/html": [
       "<div>\n",
       "<style scoped>\n",
       "    .dataframe tbody tr th:only-of-type {\n",
       "        vertical-align: middle;\n",
       "    }\n",
       "\n",
       "    .dataframe tbody tr th {\n",
       "        vertical-align: top;\n",
       "    }\n",
       "\n",
       "    .dataframe thead th {\n",
       "        text-align: right;\n",
       "    }\n",
       "</style>\n",
       "<table border=\"1\" class=\"dataframe\">\n",
       "  <thead>\n",
       "    <tr style=\"text-align: right;\">\n",
       "      <th></th>\n",
       "      <th>Unnamed: 0</th>\n",
       "      <th>ReviewID</th>\n",
       "      <th>PMID</th>\n",
       "      <th>Title</th>\n",
       "      <th>Abstract</th>\n",
       "    </tr>\n",
       "  </thead>\n",
       "  <tbody>\n",
       "    <tr>\n",
       "      <th>1</th>\n",
       "      <td>1</td>\n",
       "      <td>CD007119</td>\n",
       "      <td>16809729</td>\n",
       "      <td>Phase II trial of alfimeprase, a novel-acting ...</td>\n",
       "      <td>Alfimeprase is a recombinantly produced, genet...</td>\n",
       "    </tr>\n",
       "    <tr>\n",
       "      <th>2</th>\n",
       "      <td>2</td>\n",
       "      <td>CD007119</td>\n",
       "      <td>15178717</td>\n",
       "      <td>Dose-ranging trial with a recombinant urokinas...</td>\n",
       "      <td>Recombinant urokinase (r-UK) is a high-molecul...</td>\n",
       "    </tr>\n",
       "    <tr>\n",
       "      <th>3</th>\n",
       "      <td>3</td>\n",
       "      <td>CD007119</td>\n",
       "      <td>11487675</td>\n",
       "      <td>Recombinant tissue plasminogen activator (alte...</td>\n",
       "      <td>Central venous access devices (CVADs) are a ma...</td>\n",
       "    </tr>\n",
       "    <tr>\n",
       "      <th>4</th>\n",
       "      <td>4</td>\n",
       "      <td>CD007119</td>\n",
       "      <td>14742778</td>\n",
       "      <td>Alteplase for central catheter clearance: 1 mg...</td>\n",
       "      <td>NaN</td>\n",
       "    </tr>\n",
       "    <tr>\n",
       "      <th>5</th>\n",
       "      <td>5</td>\n",
       "      <td>CD007119</td>\n",
       "      <td>7878629</td>\n",
       "      <td>Urokinase versus recombinant tissue plasminoge...</td>\n",
       "      <td>Fifty dysfunctional central venous catheters p...</td>\n",
       "    </tr>\n",
       "  </tbody>\n",
       "</table>\n",
       "</div>"
      ],
      "text/plain": [
       "   Unnamed: 0  ReviewID      PMID  \\\n",
       "1           1  CD007119  16809729   \n",
       "2           2  CD007119  15178717   \n",
       "3           3  CD007119  11487675   \n",
       "4           4  CD007119  14742778   \n",
       "5           5  CD007119   7878629   \n",
       "\n",
       "                                               Title  \\\n",
       "1  Phase II trial of alfimeprase, a novel-acting ...   \n",
       "2  Dose-ranging trial with a recombinant urokinas...   \n",
       "3  Recombinant tissue plasminogen activator (alte...   \n",
       "4  Alteplase for central catheter clearance: 1 mg...   \n",
       "5  Urokinase versus recombinant tissue plasminoge...   \n",
       "\n",
       "                                            Abstract  \n",
       "1  Alfimeprase is a recombinantly produced, genet...  \n",
       "2  Recombinant urokinase (r-UK) is a high-molecul...  \n",
       "3  Central venous access devices (CVADs) are a ma...  \n",
       "4                                                NaN  \n",
       "5  Fifty dysfunctional central venous catheters p...  "
      ]
     },
     "execution_count": 18,
     "metadata": {},
     "output_type": "execute_result"
    }
   ],
   "source": [
    "inputs7119.head()"
   ]
  },
  {
   "cell_type": "code",
   "execution_count": null,
   "metadata": {},
   "outputs": [],
   "source": []
  }
 ],
 "metadata": {
  "kernelspec": {
   "display_name": "Python 3",
   "language": "python",
   "name": "python3"
  },
  "language_info": {
   "codemirror_mode": {
    "name": "ipython",
    "version": 3
   },
   "file_extension": ".py",
   "mimetype": "text/x-python",
   "name": "python",
   "nbconvert_exporter": "python",
   "pygments_lexer": "ipython3",
   "version": "3.7.3"
  }
 },
 "nbformat": 4,
 "nbformat_minor": 4
}
